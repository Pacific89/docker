{
 "cells": [
  {
   "cell_type": "code",
   "execution_count": 17,
   "metadata": {},
   "outputs": [
    {
     "name": "stdout",
     "output_type": "stream",
     "text": [
      "['clam', 'hqc', 'ara-net']\n"
     ]
    }
   ],
   "source": [
    "# Load Container Info for calls:\n",
    "import docker\n",
    "import json\n",
    "\n",
    "client = docker.from_env()\n",
    "running_containers = client.containers.list()\n",
    "names = [container.name for container in running_containers]\n",
    "print(names)"
   ]
  },
  {
   "cell_type": "code",
   "execution_count": null,
   "metadata": {},
   "outputs": [],
   "source": [
    "# Get HQC container and call \n",
    "# HQC algorithm using only the input file.\n",
    "# Other configs are loaded from config file\n",
    "hqc_container = [x for x in running_containers if x.name == 'hqc'][0]\n",
    "file_name = \"01CO001-760f15d2-444c-4deb-b133-62f3ca.svs\"\n",
    "start_command = \"python /usr/local/src/start_hqc.py {0}\".format(file_name)\n",
    "print(hqc_container.exec_run(start_command).output.decode('UTF-8'))"
   ]
  },
  {
   "cell_type": "code",
   "execution_count": 28,
   "metadata": {},
   "outputs": [
    {
     "name": "stdout",
     "output_type": "stream",
     "text": [
      "source:  usr/local/data/01CO001-760f15d2-444c-4deb-b133-62f3ca.svs\n",
      "patch_save_dir:  usr/local/data/output/clam/patches\n",
      "mask_save_dir:  usr/local/data/output/clam/masks\n",
      "stitch_save_dir:  usr/local/data/output/clam/stitches\n",
      "source : usr/local/data/01CO001-760f15d2-444c-4deb-b133-62f3ca.svs\n",
      "save_dir : usr/local/data/output/clam\n",
      "patch_save_dir : usr/local/data/output/clam/patches\n",
      "mask_save_dir : usr/local/data/output/clam/masks\n",
      "stitch_save_dir : usr/local/data/output/clam/stitches\n",
      "{'seg_params': {'seg_level': -1, 'sthresh': 8, 'mthresh': 7, 'close': 4, 'use_otsu': False, 'keep_ids': 'none', 'exclude_ids': 'none'}, 'filter_params': {'a_t': 100, 'a_h': 16, 'max_n_holes': 8}, 'patch_params': {'use_padding': True, 'contour_fn': 'four_pt'}, 'vis_params': {'vis_level': -1, 'line_thickness': 250}}\n",
      "\n",
      "\n",
      "progress: 0.00, 0/1\n",
      "processing usr/local/data/01CO001-760f15d2-444c-4deb-b133-62f3ca.svs\n",
      "SLIDE ID:  01CO001-760f15d2-444c-4deb-b133-62f3ca\n",
      "Creating patches for:  01CO001-760f15d2-444c-4deb-b133-62f3ca ...\n",
      "Total number of contours to process:  1\n",
      "Bounding Box: 1920 560 26737 40406\n",
      "Contour Area: 746454144.0\n",
      "Extracted 11482 coordinates\n",
      "start stitching 01CO001-760f15d2-444c-4deb-b133-62f3ca\n",
      "original size: 37440 x 48343\n",
      "downscaled size for stiching: 2340 x 3021\n",
      "number of patches: 11482\n",
      "patch size: 128x128 patch level: 0\n",
      "ref patch size: (128, 128)x(128, 128)\n",
      "downscaled patch size: 8x8\n",
      "progress: 0/11482 stitched\n",
      "progress: 1149/11482 stitched\n",
      "progress: 2298/11482 stitched\n",
      "progress: 3447/11482 stitched\n",
      "progress: 4596/11482 stitched\n",
      "progress: 5745/11482 stitched\n",
      "progress: 6894/11482 stitched\n",
      "progress: 8043/11482 stitched\n",
      "progress: 9192/11482 stitched\n",
      "progress: 10341/11482 stitched\n",
      "segmentation took 1.4963123798370361 seconds\n",
      "patching took 2.2513461112976074 seconds\n",
      "stitching took 3.349456548690796 seconds\n",
      "average segmentation time in s per slide: 1.4963123798370361\n",
      "average patching time in s per slide: 2.2513461112976074\n",
      "average stiching time in s per slide: 3.349456548690796\n",
      "CONFIG:\n",
      "{'output_path': 'usr/local/data/output/clam', 'process_list': 'usr/local/src/process_list.csv', 'patch_size': 128, 'seg': 'True', 'patch': 'True', 'stitch': 'True', 'no_auto_skip': 'True', 'preset': 'preset.csv', 'patch_level': 8}\n",
      "python usr/local/src/clam/create_patches_fp.py --source usr/local/data/01CO001-760f15d2-444c-4deb-b133-62f3ca.svs --save_dir usr/local/data/output/clam --patch_size 128 --seg --patch --stitch\n",
      "\n"
     ]
    }
   ],
   "source": [
    "clam_container = [x for x in running_containers if x.name == 'clam'][0]\n",
    "file_name = \"01CO001-760f15d2-444c-4deb-b133-62f3ca.svs\"\n",
    "start_command = \"python /usr/local/src/clam/start_create_patches.py {0}\".format(file_name)\n",
    "print(clam_container.exec_run(start_command).output.decode('UTF-8'))"
   ]
  },
  {
   "cell_type": "code",
   "execution_count": null,
   "metadata": {},
   "outputs": [],
   "source": []
  }
 ],
 "metadata": {
  "kernelspec": {
   "display_name": "Python 3",
   "language": "python",
   "name": "python3"
  },
  "language_info": {
   "codemirror_mode": {
    "name": "ipython",
    "version": 3
   },
   "file_extension": ".py",
   "mimetype": "text/x-python",
   "name": "python",
   "nbconvert_exporter": "python",
   "pygments_lexer": "ipython3",
   "version": "3.8.3"
  }
 },
 "nbformat": 4,
 "nbformat_minor": 4
}
