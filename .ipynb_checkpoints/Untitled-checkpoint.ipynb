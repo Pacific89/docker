{
 "cells": [
  {
   "cell_type": "code",
   "execution_count": 17,
   "metadata": {},
   "outputs": [
    {
     "name": "stdout",
     "output_type": "stream",
     "text": [
      "['clam', 'hqc', 'ara-net']\n"
     ]
    }
   ],
   "source": [
    "# Load Container Info for calls:\n",
    "import docker\n",
    "import json\n",
    "\n",
    "client = docker.from_env()\n",
    "running_containers = client.containers.list()\n",
    "names = [container.name for container in running_containers]\n",
    "print(names)"
   ]
  },
  {
   "cell_type": "code",
   "execution_count": null,
   "metadata": {},
   "outputs": [],
   "source": [
    "# Get HQC container and call \n",
    "# HQC algorithm using only the input file.\n",
    "# Other configs are loaded from config file\n",
    "hqc_container = [x for x in running_containers if x.name == 'hqc'][0]\n",
    "file_name = \"01CO001-760f15d2-444c-4deb-b133-62f3ca.svs\"\n",
    "start_command = \"python /usr/local/src/start_hqc.py {0}\".format(file_name)\n",
    "print(hqc_container.exec_run(start_command).output.decode('UTF-8'))"
   ]
  },
  {
   "cell_type": "code",
   "execution_count": 19,
   "metadata": {},
   "outputs": [
    {
     "name": "stdout",
     "output_type": "stream",
     "text": [
      "python: can't open file '/usr/local/src/start_create_patches.py': [Errno 2] No such file or directory\n",
      "\n"
     ]
    }
   ],
   "source": [
    "clam_container = [x for x in running_containers if x.name == 'clam'][0]\n",
    "file_name = \"01CO001-760f15d2-444c-4deb-b133-62f3ca.svs\"\n",
    "start_command = \"python /usr/local/src/clam/start_create_patches.py {0}\".format(file_name)\n",
    "print(clam_container.exec_run(start_command).output.decode('UTF-8'))"
   ]
  },
  {
   "cell_type": "code",
   "execution_count": null,
   "metadata": {},
   "outputs": [],
   "source": []
  }
 ],
 "metadata": {
  "kernelspec": {
   "display_name": "Python 3",
   "language": "python",
   "name": "python3"
  },
  "language_info": {
   "codemirror_mode": {
    "name": "ipython",
    "version": 3
   },
   "file_extension": ".py",
   "mimetype": "text/x-python",
   "name": "python",
   "nbconvert_exporter": "python",
   "pygments_lexer": "ipython3",
   "version": "3.8.3"
  }
 },
 "nbformat": 4,
 "nbformat_minor": 4
}
